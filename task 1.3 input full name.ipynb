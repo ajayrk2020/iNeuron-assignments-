{
 "cells": [
  {
   "cell_type": "code",
   "execution_count": 3,
   "metadata": {},
   "outputs": [
    {
     "name": "stdout",
     "output_type": "stream",
     "text": [
      "First Name:- Aaradhya\n",
      "Last name :- Kalagi\n",
      "Your full name is Kalagi Aaradhya\n"
     ]
    }
   ],
   "source": [
    "# Write a Python program to accept the user's first and last name and then getting them printed in the the reverse order with a space between first name and last name\n",
    "\n",
    "a = input(\"First Name:- \")\n",
    "b = input(\"Last name :- \")\n",
    "print(\"Your full name is\", b +' '+ a)"
   ]
  },
  {
   "cell_type": "code",
   "execution_count": null,
   "metadata": {},
   "outputs": [],
   "source": []
  }
 ],
 "metadata": {
  "kernelspec": {
   "display_name": "Python 3",
   "language": "python",
   "name": "python3"
  },
  "language_info": {
   "codemirror_mode": {
    "name": "ipython",
    "version": 3
   },
   "file_extension": ".py",
   "mimetype": "text/x-python",
   "name": "python",
   "nbconvert_exporter": "python",
   "pygments_lexer": "ipython3",
   "version": "3.7.6"
  }
 },
 "nbformat": 4,
 "nbformat_minor": 4
}
