{
 "cells": [
  {
   "cell_type": "code",
   "execution_count": 8,
   "metadata": {},
   "outputs": [
    {
     "name": "stdout",
     "output_type": "stream",
     "text": [
      "the volume of a sphere with diameter 12 cm is :- 904.3199999999999\n"
     ]
    }
   ],
   "source": [
    "# Write a Python program to find the volume of a sphere with diameter 12 cm\n",
    "\n",
    "diameter = 12 \n",
    "radius = diameter / 2\n",
    "pi = 3.14\n",
    "volume = 4/3*pi*radius**3\n",
    "print(\"the volume of a sphere with diameter 12 cm is :-\", volume)"
   ]
  },
  {
   "cell_type": "code",
   "execution_count": null,
   "metadata": {},
   "outputs": [],
   "source": []
  }
 ],
 "metadata": {
  "kernelspec": {
   "display_name": "Python 3",
   "language": "python",
   "name": "python3"
  },
  "language_info": {
   "codemirror_mode": {
    "name": "ipython",
    "version": 3
   },
   "file_extension": ".py",
   "mimetype": "text/x-python",
   "name": "python",
   "nbconvert_exporter": "python",
   "pygments_lexer": "ipython3",
   "version": "3.7.6"
  }
 },
 "nbformat": 4,
 "nbformat_minor": 4
}
